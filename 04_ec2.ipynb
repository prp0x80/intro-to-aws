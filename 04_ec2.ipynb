{
 "cells": [
  {
   "cell_type": "raw",
   "metadata": {},
   "source": [
    "---\n",
    "title: Amazon EC2\n",
    "format: html\n",
    "---"
   ]
  },
  {
   "cell_type": "markdown",
   "metadata": {},
   "source": [
    "Amazon Elastic Compute Cloud (Amazon EC2) offers secure and resizable compute capacity for virtually any workload.\n",
    "\n",
    "![](https://www.awsgeek.com/Amazon-EC2-Spot-Instances/Amazon-EC2-Spot-Instances.jpg)"
   ]
  },
  {
   "cell_type": "markdown",
   "metadata": {},
   "source": [
    "### Amazon EC2 Instance Types\n",
    "\n",
    "- Defines the processor, memory, and storage type\n",
    "- Cannot be changed without downtime\n",
    "- Provided in the following categories\n",
    "    - General purpose\n",
    "    - Compute, memory, and storage optimised\n",
    "    - Accelerated computing\n",
    "- Pricing is based on the instance type - https://instances.vantage.sh/"
   ]
  },
  {
   "cell_type": "markdown",
   "metadata": {},
   "source": [
    "### Root Device Type\n",
    "\n",
    "- **Instance Store**: Ephemeral storage that is physically attached to the host the virtual server is running on\n",
    "- **Elastic Block Store (EBS)**: Persistent storage that exists separate from the host the virtual server is running on"
   ]
  },
  {
   "cell_type": "markdown",
   "metadata": {},
   "source": [
    "### Amazon Machine Image (AMI)\n",
    "\n",
    "- It's a template that defines an EC2 instance\n",
    "- AWS provided many AMI's that can be leveraged\n",
    "- Custom AMI's can be created based on your configuration\n",
    "- Commercial AMI's are available in the AWS marketplace"
   ]
  },
  {
   "cell_type": "markdown",
   "metadata": {},
   "source": [
    "### Use cases\n",
    "\n",
    "- Web-application hosting\n",
    "- Batch processing\n",
    "- Web services endpoint\n",
    "- Desktop in the cloud"
   ]
  },
  {
   "cell_type": "markdown",
   "metadata": {},
   "source": [
    "### Demo"
   ]
  },
  {
   "cell_type": "markdown",
   "metadata": {},
   "source": [
    "- Create an EC2 instance using management console\n",
    "- Access EC2 instance via SSH\n",
    "- Install Jupyter Lab\n",
    "- Create new notebook, install libraries, process data."
   ]
  }
 ],
 "metadata": {
  "kernelspec": {
   "display_name": "Python 3",
   "language": "python",
   "name": "python3"
  },
  "language_info": {
   "codemirror_mode": {
    "name": "ipython",
    "version": 3
   },
   "file_extension": ".py",
   "mimetype": "text/x-python",
   "name": "python",
   "nbconvert_exporter": "python",
   "pygments_lexer": "ipython3",
   "version": "3.8.13 (default, Oct  4 2022, 14:00:32) \n[GCC 9.4.0]"
  },
  "orig_nbformat": 4,
  "vscode": {
   "interpreter": {
    "hash": "9ac03a0a6051494cc606d484d27d20fce22fb7b4d169f583271e11d5ba46a56e"
   }
  }
 },
 "nbformat": 4,
 "nbformat_minor": 2
}
