{
 "cells": [
  {
   "cell_type": "raw",
   "metadata": {},
   "source": [
    "---\n",
    "title: Interacting with AWS\n",
    "format: html\n",
    "---"
   ]
  },
  {
   "cell_type": "markdown",
   "metadata": {},
   "source": [
    "There are three ways to interact with AWS:\n",
    "\n",
    "## AWS Management Console: \n",
    "\n",
    "- A web based interface to configure, create, and manage resources\n",
    "- Also accessible via mobile app\n",
    "- Beginner friendly and ideal for quickly testing out services\n",
    "- Click [here](https://991775080983.signin.aws.amazon.com/console) to access Kainos AWS Management Console\n",
    " \n",
    "## AWS CLI\n",
    "\n",
    "- A command line utility on Windows, Mac, and Linux\n",
    "- Every task that can be done in the console can be done with CLI\n",
    "- Ideal for automating repetetive tasks\n",
    "- Refer to AWS CLI Command Reference [here](https://docs.aws.amazon.com/cli/latest/index.html)\n",
    "\n",
    "## AWS SDK\n",
    "\n",
    "- Allows to manage resources programatically, thus allowing to automate interaction with the platform.\n",
    "- The SDK is available in all the popular languages: Java, .NET, Python, C++, Ruby, etc.\n",
    "- A rich documentation for each SDK in each is available, for Python visit `https://aws.amazon.com/sdk-for-python/`"
   ]
  },
  {
   "cell_type": "markdown",
   "metadata": {},
   "source": [
    "## Demo\n",
    "\n",
    "- Set up AWS Account\n",
    "- Set up AWS CLI"
   ]
  }
 ],
 "metadata": {
  "kernelspec": {
   "display_name": "Python 3.8.13 ('deep-learning')",
   "language": "python",
   "name": "python3"
  },
  "language_info": {
   "codemirror_mode": {
    "name": "ipython",
    "version": 3
   },
   "file_extension": ".py",
   "mimetype": "text/x-python",
   "name": "python",
   "nbconvert_exporter": "python",
   "pygments_lexer": "ipython3",
   "version": "3.8.13"
  },
  "orig_nbformat": 4,
  "vscode": {
   "interpreter": {
    "hash": "68d036a9b42d5c828d1ba68a8f2ccbe596a4b4792344440f3a0b3ae77071625c"
   }
  }
 },
 "nbformat": 4,
 "nbformat_minor": 2
}
