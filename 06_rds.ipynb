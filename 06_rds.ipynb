{
 "cells": [
  {
   "cell_type": "raw",
   "metadata": {},
   "source": [
    "---\n",
    "title: Amazon RDS\n",
    "format: html\n",
    "---"
   ]
  },
  {
   "cell_type": "markdown",
   "metadata": {},
   "source": [
    "Amazon Relational Database Service (Amazon RDS) allows easily to set up, operate, and scale a relational database in the cloud.\n",
    "\n",
    "![](https://www.awsgeek.com/Amazon-RDS/Amazon-RDS.jpg)"
   ]
  },
  {
   "cell_type": "markdown",
   "metadata": {},
   "source": [
    "- Fully managed service for relational databases\n",
    "- Handles provisioning, patching, backup, and recovery of your database\n",
    "- Supports deployment across multiple availability zones (multi-AZ)\n",
    "- Some platforms support read replicas Launches into a VPC\n",
    "- Provides both general purpose SSD and provisioned IOPS SSD drive options\n",
    "- Amazon RDS platforms: MySQL, PostgresSQL, MariaDB, Oracle Database, SQL Server"
   ]
  },
  {
   "cell_type": "markdown",
   "metadata": {},
   "source": [
    "### Use cases\n",
    "\n",
    "- All database related use cases, with elasticity, high availability, and reliability of cloud.\n",
    "\n",
    "### Demo\n",
    "\n",
    "- Create Amazon RDS\n",
    "- Connect to Amazon RDS from EC2 instance using Jupyter notebook"
   ]
  },
  {
   "cell_type": "markdown",
   "metadata": {},
   "source": [
    "## Challenge\n",
    "\n",
    "- Upload marketing data & notebook to AWS EC2 Jupyter Server\n",
    "- Run the EDA notebook on EC2\n",
    "- Update EDA notebook to load marketing data from `ai-academy-2022` S3 bucket using Python SDK\n",
    "- Load marketing data into RDS"
   ]
  }
 ],
 "metadata": {
  "kernelspec": {
   "display_name": "Python 3",
   "language": "python",
   "name": "python3"
  },
  "language_info": {
   "codemirror_mode": {
    "name": "ipython",
    "version": 3
   },
   "file_extension": ".py",
   "mimetype": "text/x-python",
   "name": "python",
   "nbconvert_exporter": "python",
   "pygments_lexer": "ipython3",
   "version": "3.8.13 (default, Oct  4 2022, 14:00:32) \n[GCC 9.4.0]"
  },
  "orig_nbformat": 4,
  "vscode": {
   "interpreter": {
    "hash": "9ac03a0a6051494cc606d484d27d20fce22fb7b4d169f583271e11d5ba46a56e"
   }
  }
 },
 "nbformat": 4,
 "nbformat_minor": 2
}
