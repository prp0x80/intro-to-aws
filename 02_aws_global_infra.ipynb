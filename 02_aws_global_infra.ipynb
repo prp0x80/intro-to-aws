{
 "cells": [
  {
   "cell_type": "raw",
   "metadata": {},
   "source": [
    "---\n",
    "title: AWS Global Infrastructure\n",
    "format: html      \n",
    "---"
   ]
  },
  {
   "cell_type": "markdown",
   "metadata": {},
   "source": [
    "## AWS Regions"
   ]
  },
  {
   "cell_type": "markdown",
   "metadata": {},
   "source": [
    "- Each region is in a specific geographical location\n",
    "- Each geographical location has a cluster of data centers\n",
    "- AWS has currently 27 launched regions each with multiple **availability zones (AZs)**\n",
    "\n",
    "For up-to-date region map click [here](https://aws.amazon.com/about-aws/global-infrastructure/regions_az/?p=ngi&loc=2)"
   ]
  },
  {
   "cell_type": "markdown",
   "metadata": {},
   "source": [
    "![](./aws_regions.png)"
   ]
  },
  {
   "cell_type": "markdown",
   "metadata": {},
   "source": [
    "## Availability Zones"
   ]
  },
  {
   "cell_type": "markdown",
   "metadata": {},
   "source": [
    "- An availability zone comprises of one or more data centers\n",
    "- Each AWS region has multiple availability zones\n",
    "- They are located within the geographical area of the AWS region\n",
    "- They ensure redundant power, networking and connectivity\n",
    "- There are currently 87 availability zones globally\n",
    "\n",
    "More details on AWS AZs can be found [here](https://aws.amazon.com/about-aws/global-infrastructure/regions_az/)"
   ]
  },
  {
   "cell_type": "markdown",
   "metadata": {},
   "source": [
    ":::{.callout-note}\n",
    "## Availability \n",
    "\n",
    "Extent to which an application is fulfilling its intended business purpose. Applications that are highly-available are built in a manner where a single failure won’t lessen the application’s ability to be fully operational.\n",
    "\n",
    ":::"
   ]
  },
  {
   "cell_type": "markdown",
   "metadata": {},
   "source": [
    "## Region and AZ naming convention"
   ]
  },
  {
   "cell_type": "markdown",
   "metadata": {},
   "source": [
    "![](./naming_convention.png)\n",
    "\n",
    "[Region availability for AWS Directory Service](https://docs.aws.amazon.com/directoryservice/latest/admin-guide/regions.html)"
   ]
  },
  {
   "cell_type": "markdown",
   "metadata": {},
   "source": [
    "## AWS Edge Locations\n",
    "\n",
    "- Edge locations are additional nodes set up to deliver content to the users with low latency\n",
    "- They are utilized by Amazon CloudFront and Amazon Route 53\n",
    "- It allows AWS to serve content from locations closest to users\n",
    "- Currently, there are 410+ points of presence across the globe\n",
    "\n",
    "Read more about edge locations [here](https://www.lastweekinaws.com/blog/what-is-an-edge-location-in-aws-a-simple-explanation/)"
   ]
  },
  {
   "cell_type": "markdown",
   "metadata": {},
   "source": []
  }
 ],
 "metadata": {
  "kernelspec": {
   "display_name": "Python 3",
   "language": "python",
   "name": "python3"
  },
  "language_info": {
   "name": "python",
   "version": "3.8.13 (default, Oct  4 2022, 14:00:32) \n[GCC 9.4.0]"
  },
  "orig_nbformat": 4,
  "vscode": {
   "interpreter": {
    "hash": "9ac03a0a6051494cc606d484d27d20fce22fb7b4d169f583271e11d5ba46a56e"
   }
  }
 },
 "nbformat": 4,
 "nbformat_minor": 2
}
