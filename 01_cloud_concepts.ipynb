{
 "cells": [
  {
   "cell_type": "raw",
   "metadata": {},
   "source": [
    "---\n",
    "title: Fundamental Cloud Concepts\n",
    "format: html\n",
    "---"
   ]
  },
  {
   "cell_type": "markdown",
   "metadata": {},
   "source": [
    "## Traditional Data Centers\n",
    "\n",
    "> Traditional data centers are collection of servers privately owned and maintained by an organizations.   \n",
    "\n",
    "Following are some of the challenges of using traditional data centres:\n",
    "\n",
    "- Large upfront investment (CapEx)\n",
    "- Forecasting demand is difficult\n",
    "- Slow to deploy new data centers and servers\n",
    "- Maintaining data centers in expensive\n",
    "- You own all the security and compliance burden"
   ]
  },
  {
   "cell_type": "markdown",
   "metadata": {},
   "source": [
    "## Advantages of Cloud Computing\n",
    "\n",
    "- Pay as you go (OpEX)\n",
    "- Low total cost of ownership (TCO)\n",
    "- Elastic resources\n",
    "- Increased speed and agility\n",
    "- No data center maintenance cost\n",
    "- Global reach\n",
    "\n",
    "On using cloud services, although the burden of security is shifted to cloud providers, it is still a shared responsiblity.Read about AWS shared responsibility models [here](https://aws.amazon.com/compliance/shared-responsibility-model/)"
   ]
  },
  {
   "cell_type": "markdown",
   "metadata": {},
   "source": [
    ":::{.callout-note}\n",
    "### Elasticity\n",
    "\n",
    "Elasticity is the ability to acquire resources as you need them and release resources when you no longer need them. In the cloud, you want to do this automatically. \n",
    "\n",
    ":::\n"
   ]
  },
  {
   "cell_type": "markdown",
   "metadata": {},
   "source": [
    "## Cloud Computing\n",
    "\n",
    "\"Cloud computing is the on-demand delivery of compute power, database storage, applications, and other IT resources through a cloud services platform via the Internet with pay-as- you-go pricing.\"\n",
    "\n",
    "--- Amazon Web Services"
   ]
  },
  {
   "cell_type": "markdown",
   "metadata": {},
   "source": [
    "### Cloud Computing Models"
   ]
  },
  {
   "cell_type": "markdown",
   "metadata": {},
   "source": [
    "![](./cloud_models_compare.png)"
   ]
  },
  {
   "cell_type": "markdown",
   "metadata": {},
   "source": [
    "### Cloud Deployment Models\n",
    "\n",
    "![](./cloud_deployment_models.png)"
   ]
  },
  {
   "cell_type": "markdown",
   "metadata": {},
   "source": []
  }
 ],
 "metadata": {
  "kernelspec": {
   "display_name": "Python 3",
   "language": "python",
   "name": "python3"
  },
  "language_info": {
   "name": "python",
   "version": "3.8.13 (default, Oct  4 2022, 14:00:32) \n[GCC 9.4.0]"
  },
  "orig_nbformat": 4,
  "vscode": {
   "interpreter": {
    "hash": "9ac03a0a6051494cc606d484d27d20fce22fb7b4d169f583271e11d5ba46a56e"
   }
  }
 },
 "nbformat": 4,
 "nbformat_minor": 2
}
