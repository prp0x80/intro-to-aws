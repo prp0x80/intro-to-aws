{
 "cells": [
  {
   "cell_type": "markdown",
   "metadata": {},
   "source": [
    "Much of the content for this section of the slides was based on the AWS Certified Cloud Practitioner exam guide, although we have only skimmed the surface. \n",
    "\n",
    "### Road to AWS Certified Cloud Practitioner\n",
    "\n",
    "This is an entry level certification which provides you with a foundation level knowledge of the AWS cloud.  \n",
    "\n",
    "- [AWS Cloud Essentials](https://aws.amazon.com/getting-started/cloud-essentials/)\n",
    "- [Study Guide](https://towardsthecloud.com/aws-cloud-practitioner-exam-guide)\n",
    "- [Registration](https://aws.amazon.com/certification/certified-cloud-practitioner/)\n",
    "- [Course](https://www.youtube.com/watch?v=SOTamWNgDKc)\n",
    "- [Sample Questions](https://d1.awsstatic.com/training-and-certification/docs-cloud-practitioner/AWS-Certified-Cloud-Practitioner_Sample-Questions.pdf)\n",
    "- [Join Kainos AWS Study Group](https://teams.microsoft.com/l/channel/19%3a3dd2b5ca15ea488d90e89452294ba9ab%40thread.skype/AWS%2520Study%2520Group?groupId=fceb48ac-b702-4216-a680-a08c45bdbfc0&tenantId=7ed9bdc7-964d-4dc0-9084-812b90e05c6d)\n",
    "\n",
    "\n",
    "![](https://d1.awsstatic.com/training-and-certification/certification-badges/AWS-Certified-Cloud-Practitioner_badge.634f8a21af2e0e956ed8905a72366146ba22b74c.png)\n",
    "\n",
    "\n"
   ]
  },
  {
   "cell_type": "markdown",
   "metadata": {},
   "source": [
    "![](https://vendelux.com//media/pic_folder/AWS-re-Invent-2022.png)\n",
    "\n",
    "Register [here](https://reinvent.awsevents.com/) for free\n"
   ]
  },
  {
   "cell_type": "markdown",
   "metadata": {},
   "source": []
  }
 ],
 "metadata": {
  "kernelspec": {
   "display_name": "Python 3.8.13 ('deep-learning')",
   "language": "python",
   "name": "python3"
  },
  "language_info": {
   "codemirror_mode": {
    "name": "ipython",
    "version": 3
   },
   "file_extension": ".py",
   "mimetype": "text/x-python",
   "name": "python",
   "nbconvert_exporter": "python",
   "pygments_lexer": "ipython3",
   "version": "3.8.13"
  },
  "orig_nbformat": 4,
  "vscode": {
   "interpreter": {
    "hash": "68d036a9b42d5c828d1ba68a8f2ccbe596a4b4792344440f3a0b3ae77071625c"
   }
  }
 },
 "nbformat": 4,
 "nbformat_minor": 2
}
