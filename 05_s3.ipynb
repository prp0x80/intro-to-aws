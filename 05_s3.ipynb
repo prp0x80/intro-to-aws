{
 "cells": [
  {
   "cell_type": "raw",
   "metadata": {},
   "source": [
    "---\n",
    "title: Amazon S3\n",
    "format: html\n",
    "---"
   ]
  },
  {
   "cell_type": "markdown",
   "metadata": {},
   "source": [
    "Amazon Simple Storage Service (Amazon S3) is an object storage built to retrieve any amount of data from anywhere.\n",
    "\n",
    "![](https://www.awsgeek.com/Amazon-S3/Amazon-S3.jpg)"
   ]
  },
  {
   "cell_type": "markdown",
   "metadata": {},
   "source": [
    "### Amazon S3 Non-archival Storage Classes"
   ]
  },
  {
   "cell_type": "markdown",
   "metadata": {},
   "source": [
    "- Stores files as objects in buckets\n",
    "- Provides different storage classes for different use cases\n",
    "    - Standard: for freqently accessed data\n",
    "    - Intelligent Tiering: moves data to correct class based on usage\n",
    "    - Standard-IA: for infrequently accessed data with the standard resilience\n",
    "    - S3 One Zone-IA: for infrequently accessed data that is stored in only one AZ\n",
    "- Stores data across multiple availability zones\n",
    "- Enables URL access for files\n",
    "- Offers configurable rules for data lifecycle Can serve as a static website host"
   ]
  },
  {
   "cell_type": "markdown",
   "metadata": {},
   "source": [
    "### Use cases\n",
    "\n",
    "For fast storage and access of - \n",
    "\n",
    "- Images, documents, tabular data in files, etc.\n",
    "- Machine Learning models\n",
    "- Database backups, logs, and other dumps\n",
    "- Hosting website"
   ]
  },
  {
   "cell_type": "markdown",
   "metadata": {},
   "source": [
    "### Demo"
   ]
  },
  {
   "cell_type": "markdown",
   "metadata": {},
   "source": [
    "- Connect to `ai-academy-2022` S3 bucket\n",
    "- Using AWS Python SDK, list all the objects in the `ai-academy-2022` bucket"
   ]
  },
  {
   "cell_type": "markdown",
   "metadata": {},
   "source": []
  }
 ],
 "metadata": {
  "kernelspec": {
   "display_name": "Python 3",
   "language": "python",
   "name": "python3"
  },
  "language_info": {
   "codemirror_mode": {
    "name": "ipython",
    "version": 3
   },
   "file_extension": ".py",
   "mimetype": "text/x-python",
   "name": "python",
   "nbconvert_exporter": "python",
   "pygments_lexer": "ipython3",
   "version": "3.8.13 (default, Oct  4 2022, 14:00:32) \n[GCC 9.4.0]"
  },
  "orig_nbformat": 4,
  "vscode": {
   "interpreter": {
    "hash": "9ac03a0a6051494cc606d484d27d20fce22fb7b4d169f583271e11d5ba46a56e"
   }
  }
 },
 "nbformat": 4,
 "nbformat_minor": 2
}
