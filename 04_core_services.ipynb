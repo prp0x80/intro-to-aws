{
 "cells": [
  {
   "cell_type": "raw",
   "metadata": {},
   "source": [
    "---\n",
    "title: AWS Core Services\n",
    "format: html\n",
    "---"
   ]
  },
  {
   "cell_type": "markdown",
   "metadata": {},
   "source": [
    "In this section we are going to look at few of many core services provided by AWS."
   ]
  },
  {
   "cell_type": "markdown",
   "metadata": {},
   "source": [
    "## Amazon EC2\n",
    "\n",
    "Amazon Elastic Compute Cloud (Amazon EC2) offers secure and resizable compute capacity for virtually any workload."
   ]
  },
  {
   "cell_type": "markdown",
   "metadata": {},
   "source": [
    "### Amazon EC2 Instance Types\n",
    "\n",
    "- Defines the processor, memory, and storage type\n",
    "- Cannot be changed without downtime\n",
    "- Provided in the following categories\n",
    "    - General purpose\n",
    "    - Compute, memory, and storage optimised\n",
    "    - Accelerated computing\n",
    "- Pricing is based on the instance type - https://instances.vantage.sh/"
   ]
  },
  {
   "cell_type": "markdown",
   "metadata": {},
   "source": [
    "### Root Device Type\n",
    "\n",
    "- **Instance Store**: Ephemeral storage that is physically attached to the host the virtual server is running on\n",
    "- **Elastic Block Store (EBS)**: Persistent storage that exists separate from the host the virtual server is running on"
   ]
  },
  {
   "cell_type": "markdown",
   "metadata": {},
   "source": [
    "### Amazon Machine Image (AMI)\n",
    "\n",
    "- It's a template that defines an EC2 instance\n",
    "- AWS provided many AMI's that can be leveraged\n",
    "- Custom AMI's can be created based on your configuration\n",
    "- Commercial AMI's are available in the AWS marketplace"
   ]
  },
  {
   "cell_type": "markdown",
   "metadata": {},
   "source": [
    "### Use cases\n",
    "\n",
    "- Web-application hosting\n",
    "- Batch processing\n",
    "- Web services endpoint\n",
    "- Desktop in the cloud"
   ]
  },
  {
   "cell_type": "markdown",
   "metadata": {},
   "source": [
    "### Demo"
   ]
  },
  {
   "cell_type": "markdown",
   "metadata": {},
   "source": [
    "- Create an EC2 instance using management console\n",
    "- Access EC2 instance via SSH\n",
    "- Install Jupyter Lab\n",
    "- Create new notebook, install libraries, process data."
   ]
  },
  {
   "cell_type": "markdown",
   "metadata": {},
   "source": [
    "## Amazon S3\n",
    "\n",
    "Amazon Simple Storage Service (Amazon S3) is an object storage built to retrieve any amount of data from anywhere."
   ]
  },
  {
   "cell_type": "markdown",
   "metadata": {},
   "source": [
    "### Amazon S3 Non-archival Storage Classes"
   ]
  },
  {
   "cell_type": "markdown",
   "metadata": {},
   "source": [
    "- Stores files as objects in buckets\n",
    "- Provides different storage classes for different use cases\n",
    "    - Standard: for freqently accessed data\n",
    "    - Intelligent Tiering: moves data to correct class based on usage\n",
    "    - Standard-IA: for infrequently accessed data with the standard resilience\n",
    "    - S3 One Zone-IA: for infrequently accessed data that is stored in only one AZ\n",
    "- Stores data across multiple availability zones\n",
    "- Enables URL access for files\n",
    "- Offers configurable rules for data lifecycle Can serve as a static website host"
   ]
  },
  {
   "cell_type": "markdown",
   "metadata": {},
   "source": [
    "### Use cases\n",
    "\n",
    "For fast storage and access of - \n",
    "\n",
    "- Images, documents, tabular data in files, etc.\n",
    "- Machine Learning models\n",
    "- Database backups, logs, and other dumps\n",
    "- Hosting website"
   ]
  },
  {
   "cell_type": "markdown",
   "metadata": {},
   "source": [
    "### Demo"
   ]
  },
  {
   "cell_type": "markdown",
   "metadata": {},
   "source": [
    "- Connect to `ai-academy-2022` S3 bucket\n",
    "- Using AWS Python SDK, list all the objects in the `ai-academy-2022` bucket"
   ]
  },
  {
   "cell_type": "markdown",
   "metadata": {},
   "source": [
    "## Amazon RDS\n",
    "\n",
    "Amazon Relational Database Service (Amazon RDS) allows easily to set up, operate, and scale a relational database in the cloud."
   ]
  },
  {
   "cell_type": "markdown",
   "metadata": {},
   "source": [
    "- Fully managed service for relational databases\n",
    "- Handles provisioning, patching, backup, and recovery of your database\n",
    "- Supports deployment across multiple availability zones (multi-AZ)\n",
    "- Some platforms support read replicas Launches into a VPC\n",
    "- Provides both general purpose SSD and provisioned IOPS SSD drive options\n",
    "- Amazon RDS platforms: MySQL, PostgresSQL, MariaDB, Oracle Database, SQL Server"
   ]
  },
  {
   "cell_type": "markdown",
   "metadata": {},
   "source": [
    "### Use cases\n",
    "\n",
    "- All database related use cases, with elasticity, high availability, and reliability of cloud."
   ]
  },
  {
   "cell_type": "markdown",
   "metadata": {},
   "source": [
    "## Challenge\n",
    "\n",
    "- Upload marketing data & notebook to AWS EC2 Jupyter Server\n",
    "- Run the EDA notebook on EC2\n",
    "- Update EDA notebook to load marketing data from `ai-academy-2022` S3 bucket using Python SDK\n",
    "- Load marketing data into RDS"
   ]
  },
  {
   "cell_type": "markdown",
   "metadata": {},
   "source": []
  }
 ],
 "metadata": {
  "kernelspec": {
   "display_name": "Python 3.8.13 ('deep-learning')",
   "language": "python",
   "name": "python3"
  },
  "language_info": {
   "codemirror_mode": {
    "name": "ipython",
    "version": 3
   },
   "file_extension": ".py",
   "mimetype": "text/x-python",
   "name": "python",
   "nbconvert_exporter": "python",
   "pygments_lexer": "ipython3",
   "version": "3.8.13"
  },
  "orig_nbformat": 4,
  "vscode": {
   "interpreter": {
    "hash": "68d036a9b42d5c828d1ba68a8f2ccbe596a4b4792344440f3a0b3ae77071625c"
   }
  }
 },
 "nbformat": 4,
 "nbformat_minor": 2
}
